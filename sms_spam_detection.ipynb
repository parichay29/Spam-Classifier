{
  "cells": [
    {
      "cell_type": "markdown",
      "metadata": {
        "id": "view-in-github",
        "colab_type": "text"
      },
      "source": [
        "<a href=\"https://colab.research.google.com/github/parichay29/Spam-Classifier/blob/main/sms_spam_detection.ipynb\" target=\"_parent\"><img src=\"https://colab.research.google.com/assets/colab-badge.svg\" alt=\"Open In Colab\"/></a>"
      ]
    },
    {
      "cell_type": "code",
      "execution_count": null,
      "metadata": {
        "id": "f4_dvsTjq2_Q"
      },
      "outputs": [],
      "source": [
        "import numpy as np\n",
        "import pandas as pd\n"
      ],
      "id": "f4_dvsTjq2_Q"
    },
    {
      "cell_type": "code",
      "execution_count": null,
      "metadata": {
        "colab": {
          "base_uri": "https://localhost:8080/"
        },
        "id": "91rYNqXEuG20",
        "outputId": "1e71a614-dff4-4d64-a84d-8ff6e3b46a39"
      },
      "outputs": [
        {
          "output_type": "stream",
          "name": "stdout",
          "text": [
            "Drive already mounted at /content/drive; to attempt to forcibly remount, call drive.mount(\"/content/drive\", force_remount=True).\n"
          ]
        }
      ],
      "source": [
        "from google.colab import drive\n",
        "drive.mount('/content/drive')"
      ],
      "id": "91rYNqXEuG20"
    },
    {
      "cell_type": "code",
      "execution_count": null,
      "metadata": {
        "id": "IkNf1mLGq2_U"
      },
      "outputs": [],
      "source": [
        "\n",
        "\n",
        "df = pd.read_csv('/content/drive/MyDrive/spam.csv',encoding='latin-1')"
      ],
      "id": "IkNf1mLGq2_U"
    },
    {
      "cell_type": "code",
      "execution_count": null,
      "metadata": {
        "colab": {
          "base_uri": "https://localhost:8080/",
          "height": 206
        },
        "id": "9PDJ1oC8q2_W",
        "outputId": "f59a46dd-a88b-4d3f-f5b3-738104766af8"
      },
      "outputs": [
        {
          "data": {
            "text/html": [
              "\n",
              "  <div id=\"df-2c266d09-3799-40da-9128-88b109244be0\">\n",
              "    <div class=\"colab-df-container\">\n",
              "      <div>\n",
              "<style scoped>\n",
              "    .dataframe tbody tr th:only-of-type {\n",
              "        vertical-align: middle;\n",
              "    }\n",
              "\n",
              "    .dataframe tbody tr th {\n",
              "        vertical-align: top;\n",
              "    }\n",
              "\n",
              "    .dataframe thead th {\n",
              "        text-align: right;\n",
              "    }\n",
              "</style>\n",
              "<table border=\"1\" class=\"dataframe\">\n",
              "  <thead>\n",
              "    <tr style=\"text-align: right;\">\n",
              "      <th></th>\n",
              "      <th>v1</th>\n",
              "      <th>v2</th>\n",
              "      <th>Unnamed: 2</th>\n",
              "      <th>Unnamed: 3</th>\n",
              "      <th>Unnamed: 4</th>\n",
              "    </tr>\n",
              "  </thead>\n",
              "  <tbody>\n",
              "    <tr>\n",
              "      <th>915</th>\n",
              "      <td>ham</td>\n",
              "      <td>I could ask carlos if we could get more if any...</td>\n",
              "      <td>NaN</td>\n",
              "      <td>NaN</td>\n",
              "      <td>NaN</td>\n",
              "    </tr>\n",
              "    <tr>\n",
              "      <th>4236</th>\n",
              "      <td>ham</td>\n",
              "      <td>Life style garments account no please.</td>\n",
              "      <td>NaN</td>\n",
              "      <td>NaN</td>\n",
              "      <td>NaN</td>\n",
              "    </tr>\n",
              "    <tr>\n",
              "      <th>3048</th>\n",
              "      <td>ham</td>\n",
              "      <td>Lol they don't know about my awesome phone. I ...</td>\n",
              "      <td>NaN</td>\n",
              "      <td>NaN</td>\n",
              "      <td>NaN</td>\n",
              "    </tr>\n",
              "    <tr>\n",
              "      <th>3984</th>\n",
              "      <td>ham</td>\n",
              "      <td>Whatever, juliana. Do whatever you want.</td>\n",
              "      <td>NaN</td>\n",
              "      <td>NaN</td>\n",
              "      <td>NaN</td>\n",
              "    </tr>\n",
              "    <tr>\n",
              "      <th>2430</th>\n",
              "      <td>ham</td>\n",
              "      <td>How was txting and driving</td>\n",
              "      <td>NaN</td>\n",
              "      <td>NaN</td>\n",
              "      <td>NaN</td>\n",
              "    </tr>\n",
              "  </tbody>\n",
              "</table>\n",
              "</div>\n",
              "      <button class=\"colab-df-convert\" onclick=\"convertToInteractive('df-2c266d09-3799-40da-9128-88b109244be0')\"\n",
              "              title=\"Convert this dataframe to an interactive table.\"\n",
              "              style=\"display:none;\">\n",
              "        \n",
              "  <svg xmlns=\"http://www.w3.org/2000/svg\" height=\"24px\"viewBox=\"0 0 24 24\"\n",
              "       width=\"24px\">\n",
              "    <path d=\"M0 0h24v24H0V0z\" fill=\"none\"/>\n",
              "    <path d=\"M18.56 5.44l.94 2.06.94-2.06 2.06-.94-2.06-.94-.94-2.06-.94 2.06-2.06.94zm-11 1L8.5 8.5l.94-2.06 2.06-.94-2.06-.94L8.5 2.5l-.94 2.06-2.06.94zm10 10l.94 2.06.94-2.06 2.06-.94-2.06-.94-.94-2.06-.94 2.06-2.06.94z\"/><path d=\"M17.41 7.96l-1.37-1.37c-.4-.4-.92-.59-1.43-.59-.52 0-1.04.2-1.43.59L10.3 9.45l-7.72 7.72c-.78.78-.78 2.05 0 2.83L4 21.41c.39.39.9.59 1.41.59.51 0 1.02-.2 1.41-.59l7.78-7.78 2.81-2.81c.8-.78.8-2.07 0-2.86zM5.41 20L4 18.59l7.72-7.72 1.47 1.35L5.41 20z\"/>\n",
              "  </svg>\n",
              "      </button>\n",
              "      \n",
              "  <style>\n",
              "    .colab-df-container {\n",
              "      display:flex;\n",
              "      flex-wrap:wrap;\n",
              "      gap: 12px;\n",
              "    }\n",
              "\n",
              "    .colab-df-convert {\n",
              "      background-color: #E8F0FE;\n",
              "      border: none;\n",
              "      border-radius: 50%;\n",
              "      cursor: pointer;\n",
              "      display: none;\n",
              "      fill: #1967D2;\n",
              "      height: 32px;\n",
              "      padding: 0 0 0 0;\n",
              "      width: 32px;\n",
              "    }\n",
              "\n",
              "    .colab-df-convert:hover {\n",
              "      background-color: #E2EBFA;\n",
              "      box-shadow: 0px 1px 2px rgba(60, 64, 67, 0.3), 0px 1px 3px 1px rgba(60, 64, 67, 0.15);\n",
              "      fill: #174EA6;\n",
              "    }\n",
              "\n",
              "    [theme=dark] .colab-df-convert {\n",
              "      background-color: #3B4455;\n",
              "      fill: #D2E3FC;\n",
              "    }\n",
              "\n",
              "    [theme=dark] .colab-df-convert:hover {\n",
              "      background-color: #434B5C;\n",
              "      box-shadow: 0px 1px 3px 1px rgba(0, 0, 0, 0.15);\n",
              "      filter: drop-shadow(0px 1px 2px rgba(0, 0, 0, 0.3));\n",
              "      fill: #FFFFFF;\n",
              "    }\n",
              "  </style>\n",
              "\n",
              "      <script>\n",
              "        const buttonEl =\n",
              "          document.querySelector('#df-2c266d09-3799-40da-9128-88b109244be0 button.colab-df-convert');\n",
              "        buttonEl.style.display =\n",
              "          google.colab.kernel.accessAllowed ? 'block' : 'none';\n",
              "\n",
              "        async function convertToInteractive(key) {\n",
              "          const element = document.querySelector('#df-2c266d09-3799-40da-9128-88b109244be0');\n",
              "          const dataTable =\n",
              "            await google.colab.kernel.invokeFunction('convertToInteractive',\n",
              "                                                     [key], {});\n",
              "          if (!dataTable) return;\n",
              "\n",
              "          const docLinkHtml = 'Like what you see? Visit the ' +\n",
              "            '<a target=\"_blank\" href=https://colab.research.google.com/notebooks/data_table.ipynb>data table notebook</a>'\n",
              "            + ' to learn more about interactive tables.';\n",
              "          element.innerHTML = '';\n",
              "          dataTable['output_type'] = 'display_data';\n",
              "          await google.colab.output.renderOutput(dataTable, element);\n",
              "          const docLink = document.createElement('div');\n",
              "          docLink.innerHTML = docLinkHtml;\n",
              "          element.appendChild(docLink);\n",
              "        }\n",
              "      </script>\n",
              "    </div>\n",
              "  </div>\n",
              "  "
            ],
            "text/plain": [
              "       v1                                                 v2 Unnamed: 2  \\\n",
              "915   ham  I could ask carlos if we could get more if any...        NaN   \n",
              "4236  ham             Life style garments account no please.        NaN   \n",
              "3048  ham  Lol they don't know about my awesome phone. I ...        NaN   \n",
              "3984  ham           Whatever, juliana. Do whatever you want.        NaN   \n",
              "2430  ham                         How was txting and driving        NaN   \n",
              "\n",
              "     Unnamed: 3 Unnamed: 4  \n",
              "915         NaN        NaN  \n",
              "4236        NaN        NaN  \n",
              "3048        NaN        NaN  \n",
              "3984        NaN        NaN  \n",
              "2430        NaN        NaN  "
            ]
          },
          "execution_count": 11,
          "metadata": {},
          "output_type": "execute_result"
        }
      ],
      "source": [
        "df.sample(5)"
      ],
      "id": "9PDJ1oC8q2_W"
    },
    {
      "cell_type": "code",
      "execution_count": null,
      "metadata": {
        "colab": {
          "base_uri": "https://localhost:8080/"
        },
        "id": "OvyrZ-smq2_Y",
        "outputId": "b8aa7b87-0ee8-43b1-b96f-90f8d637757c"
      },
      "outputs": [
        {
          "data": {
            "text/plain": [
              "(5572, 5)"
            ]
          },
          "execution_count": 12,
          "metadata": {},
          "output_type": "execute_result"
        }
      ],
      "source": [
        "df.shape"
      ],
      "id": "OvyrZ-smq2_Y"
    },
    {
      "cell_type": "code",
      "execution_count": null,
      "metadata": {
        "id": "fq7Nob5Gq2_a"
      },
      "outputs": [],
      "source": [
        "# 1. Data cleaning\n",
        "# 2. EDA\n",
        "# 3. Text Preprocessing\n",
        "# 4. Model building\n",
        "# 5. Evaluation\n",
        "# 6. Improvement\n",
        "# 7. Website\n",
        "# 8. Deploy"
      ],
      "id": "fq7Nob5Gq2_a"
    },
    {
      "cell_type": "markdown",
      "metadata": {
        "id": "z_JVJwyPq2_b"
      },
      "source": [
        "## 1. Data Cleaning"
      ],
      "id": "z_JVJwyPq2_b"
    },
    {
      "cell_type": "code",
      "execution_count": null,
      "metadata": {
        "id": "4COl4dEOq2_d"
      },
      "outputs": [],
      "source": [
        "df.info()"
      ],
      "id": "4COl4dEOq2_d"
    },
    {
      "cell_type": "code",
      "execution_count": null,
      "metadata": {
        "id": "0hFhcik6q2_e"
      },
      "outputs": [],
      "source": [
        "# drop last 3 cols\n",
        "df.drop(columns=['Unnamed: 2','Unnamed: 3','Unnamed: 4'],inplace=True)"
      ],
      "id": "0hFhcik6q2_e"
    },
    {
      "cell_type": "code",
      "execution_count": null,
      "metadata": {
        "id": "wX7M0S4Mq2_f"
      },
      "outputs": [],
      "source": [
        "df.sample(5)"
      ],
      "id": "wX7M0S4Mq2_f"
    },
    {
      "cell_type": "code",
      "execution_count": null,
      "metadata": {
        "id": "4SfJ4j-Sq2_i"
      },
      "outputs": [],
      "source": [
        "# renaming the cols\n",
        "df.rename(columns={'v1':'target','v2':'text'},inplace=True)\n",
        "df.sample(5)"
      ],
      "id": "4SfJ4j-Sq2_i"
    },
    {
      "cell_type": "code",
      "execution_count": null,
      "metadata": {
        "id": "GXS2lNHfq2_j"
      },
      "outputs": [],
      "source": [
        "from sklearn.preprocessing import LabelEncoder\n",
        "encoder = LabelEncoder()"
      ],
      "id": "GXS2lNHfq2_j"
    },
    {
      "cell_type": "code",
      "execution_count": null,
      "metadata": {
        "id": "ph3VlmfNq2_k"
      },
      "outputs": [],
      "source": [
        "df['target'] = encoder.fit_transform(df['target'])"
      ],
      "id": "ph3VlmfNq2_k"
    },
    {
      "cell_type": "code",
      "execution_count": null,
      "metadata": {
        "id": "HXVO44Vgq2_l"
      },
      "outputs": [],
      "source": [
        "df.head()"
      ],
      "id": "HXVO44Vgq2_l"
    },
    {
      "cell_type": "code",
      "execution_count": null,
      "metadata": {
        "id": "Iix8OVo7q2_m"
      },
      "outputs": [],
      "source": [
        "# missing values\n",
        "df.isnull().sum()"
      ],
      "id": "Iix8OVo7q2_m"
    },
    {
      "cell_type": "code",
      "execution_count": null,
      "metadata": {
        "id": "EvSxp59sq2_n"
      },
      "outputs": [],
      "source": [
        "# check for duplicate values\n",
        "df.duplicated().sum()"
      ],
      "id": "EvSxp59sq2_n"
    },
    {
      "cell_type": "code",
      "execution_count": null,
      "metadata": {
        "id": "rldFauE_q2_n"
      },
      "outputs": [],
      "source": [
        "# remove duplicates\n",
        "df = df.drop_duplicates(keep='first')"
      ],
      "id": "rldFauE_q2_n"
    },
    {
      "cell_type": "code",
      "execution_count": null,
      "metadata": {
        "id": "VIUlglvgq2_o"
      },
      "outputs": [],
      "source": [
        "df.duplicated().sum()"
      ],
      "id": "VIUlglvgq2_o"
    },
    {
      "cell_type": "code",
      "execution_count": null,
      "metadata": {
        "id": "eyT2yyaXq2_p"
      },
      "outputs": [],
      "source": [
        "df.shape"
      ],
      "id": "eyT2yyaXq2_p"
    },
    {
      "cell_type": "markdown",
      "metadata": {
        "id": "UKPxTnLfq2_p"
      },
      "source": [
        "## 2.EDA"
      ],
      "id": "UKPxTnLfq2_p"
    },
    {
      "cell_type": "code",
      "execution_count": null,
      "metadata": {
        "id": "J-ZTwj_yq2_q"
      },
      "outputs": [],
      "source": [
        "df.head()"
      ],
      "id": "J-ZTwj_yq2_q"
    },
    {
      "cell_type": "code",
      "execution_count": null,
      "metadata": {
        "id": "vCRJKPCjq2_r"
      },
      "outputs": [],
      "source": [
        "df['target'].value_counts()"
      ],
      "id": "vCRJKPCjq2_r"
    },
    {
      "cell_type": "code",
      "execution_count": null,
      "metadata": {
        "id": "gp2DZ_WNq2_r"
      },
      "outputs": [],
      "source": [
        "import matplotlib.pyplot as plt\n",
        "plt.pie(df['target'].value_counts(), labels=['ham','spam'],autopct=\"%0.2f\")\n",
        "plt.show()"
      ],
      "id": "gp2DZ_WNq2_r"
    },
    {
      "cell_type": "code",
      "execution_count": null,
      "metadata": {
        "id": "m24YKPFHq2_s"
      },
      "outputs": [],
      "source": [
        "# Data is imbalanced"
      ],
      "id": "m24YKPFHq2_s"
    },
    {
      "cell_type": "code",
      "execution_count": null,
      "metadata": {
        "id": "8Sa-g9gGq2_s"
      },
      "outputs": [],
      "source": [
        "import nltk"
      ],
      "id": "8Sa-g9gGq2_s"
    },
    {
      "cell_type": "code",
      "execution_count": null,
      "metadata": {
        "id": "Aex6xXuVq2_t"
      },
      "outputs": [],
      "source": [
        "!pip install nltk"
      ],
      "id": "Aex6xXuVq2_t"
    },
    {
      "cell_type": "code",
      "execution_count": null,
      "metadata": {
        "id": "OpoETdR0q2_t"
      },
      "outputs": [],
      "source": [
        "nltk.download('punkt')"
      ],
      "id": "OpoETdR0q2_t"
    },
    {
      "cell_type": "code",
      "execution_count": null,
      "metadata": {
        "id": "ClSfVJq6q2_u"
      },
      "outputs": [],
      "source": [
        "df['num_characters'] = df['text'].apply(len)"
      ],
      "id": "ClSfVJq6q2_u"
    },
    {
      "cell_type": "code",
      "execution_count": null,
      "metadata": {
        "id": "8Vt6mVHvq2_u"
      },
      "outputs": [],
      "source": [
        "df.head()"
      ],
      "id": "8Vt6mVHvq2_u"
    },
    {
      "cell_type": "code",
      "execution_count": null,
      "metadata": {
        "id": "6-t_PatWq2_v"
      },
      "outputs": [],
      "source": [
        "# num of words\n",
        "df['num_words'] = df['text'].apply(lambda x:len(nltk.word_tokenize(x)))"
      ],
      "id": "6-t_PatWq2_v"
    },
    {
      "cell_type": "code",
      "execution_count": null,
      "metadata": {
        "id": "E2SNxm2wq2_v"
      },
      "outputs": [],
      "source": [
        "df.head()"
      ],
      "id": "E2SNxm2wq2_v"
    },
    {
      "cell_type": "code",
      "execution_count": null,
      "metadata": {
        "id": "fp-7qRZhq2_w"
      },
      "outputs": [],
      "source": [
        "df['num_sentences'] = df['text'].apply(lambda x:len(nltk.sent_tokenize(x)))"
      ],
      "id": "fp-7qRZhq2_w"
    },
    {
      "cell_type": "code",
      "execution_count": null,
      "metadata": {
        "id": "-bYAFyUlq2_x"
      },
      "outputs": [],
      "source": [
        "df.head()"
      ],
      "id": "-bYAFyUlq2_x"
    },
    {
      "cell_type": "code",
      "execution_count": null,
      "metadata": {
        "id": "vEEIzfXCq2_x"
      },
      "outputs": [],
      "source": [
        "df[['num_characters','num_words','num_sentences']].describe()"
      ],
      "id": "vEEIzfXCq2_x"
    },
    {
      "cell_type": "code",
      "execution_count": null,
      "metadata": {
        "id": "inwzHdv2q2_y"
      },
      "outputs": [],
      "source": [
        "# ham\n",
        "df[df['target'] == 0][['num_characters','num_words','num_sentences']].describe()"
      ],
      "id": "inwzHdv2q2_y"
    },
    {
      "cell_type": "code",
      "execution_count": null,
      "metadata": {
        "id": "RlKSyRNGq2_z"
      },
      "outputs": [],
      "source": [
        "#spam\n",
        "df[df['target'] == 1][['num_characters','num_words','num_sentences']].describe()"
      ],
      "id": "RlKSyRNGq2_z"
    },
    {
      "cell_type": "code",
      "execution_count": null,
      "metadata": {
        "id": "2fkeoOHsq2_z"
      },
      "outputs": [],
      "source": [
        "import seaborn as sns"
      ],
      "id": "2fkeoOHsq2_z"
    },
    {
      "cell_type": "code",
      "execution_count": null,
      "metadata": {
        "id": "EUBwdOSxq2_0"
      },
      "outputs": [],
      "source": [
        "plt.figure(figsize=(12,6))\n",
        "sns.histplot(df[df['target'] == 0]['num_characters'])\n",
        "sns.histplot(df[df['target'] == 1]['num_characters'],color='red')"
      ],
      "id": "EUBwdOSxq2_0"
    },
    {
      "cell_type": "code",
      "execution_count": null,
      "metadata": {
        "id": "i1CuVHvbq2_0"
      },
      "outputs": [],
      "source": [
        "plt.figure(figsize=(12,6))\n",
        "sns.histplot(df[df['target'] == 0]['num_words'])\n",
        "sns.histplot(df[df['target'] == 1]['num_words'],color='red')"
      ],
      "id": "i1CuVHvbq2_0"
    },
    {
      "cell_type": "code",
      "execution_count": null,
      "metadata": {
        "id": "D0ODuOJ8q2_1"
      },
      "outputs": [],
      "source": [
        "sns.pairplot(df,hue='target')"
      ],
      "id": "D0ODuOJ8q2_1"
    },
    {
      "cell_type": "code",
      "execution_count": null,
      "metadata": {
        "id": "5NX8547Hq2_2"
      },
      "outputs": [],
      "source": [
        "sns.heatmap(df.corr(),annot=True)"
      ],
      "id": "5NX8547Hq2_2"
    },
    {
      "cell_type": "markdown",
      "metadata": {
        "id": "OQn2Yqcqq2_3"
      },
      "source": [
        "## 3. Data Preprocessing\n",
        "- Lower case\n",
        "- Tokenization\n",
        "- Removing special characters\n",
        "- Removing stop words and punctuation\n",
        "- Stemming #verbs"
      ],
      "id": "OQn2Yqcqq2_3"
    },
    {
      "cell_type": "code",
      "execution_count": null,
      "metadata": {
        "id": "wu_FkWZMq2_4"
      },
      "outputs": [],
      "source": [
        "import re\n",
        "import string \n",
        "import nltk\n",
        "from nltk.stem.porter import PorterStemmer\n",
        "ps = PorterStemmer()\n",
        "nltk.download('stopwords')\n",
        "\n",
        "\n",
        "from nltk.corpus import stopwords\n",
        "\n",
        "def transform_text(text):\n",
        "    text = text.lower()\n",
        "    text = nltk.word_tokenize(text)\n",
        "    \n",
        "    y = []\n",
        "    for i in text:\n",
        "        if i.isalnum():\n",
        "            y.append(i)\n",
        "    \n",
        "    text = y[:]\n",
        "    y.clear()\n",
        "    \n",
        "    for i in text:\n",
        "        if i not in stopwords.words('english') and i not in string.punctuation:\n",
        "            y.append(i)\n",
        "            \n",
        "    text = y[:]\n",
        "    y.clear()\n",
        "    \n",
        "    for i in text:\n",
        "        y.append(ps.stem(i))\n",
        "    \n",
        "            \n",
        "    return \" \".join(y)"
      ],
      "id": "wu_FkWZMq2_4"
    },
    {
      "cell_type": "code",
      "execution_count": null,
      "metadata": {
        "id": "PZJXVKW6q2_4"
      },
      "outputs": [],
      "source": [
        "transform_text(\"I'm gonna be home soon and i don't want to talk about this stuff anymore tonight, k? I've cried enough today.\")"
      ],
      "id": "PZJXVKW6q2_4"
    },
    {
      "cell_type": "code",
      "execution_count": null,
      "metadata": {
        "id": "uFWI3YLeq2_5"
      },
      "outputs": [],
      "source": [
        "df['text'][10]"
      ],
      "id": "uFWI3YLeq2_5"
    },
    {
      "cell_type": "code",
      "execution_count": null,
      "metadata": {
        "id": "_dOXm48gq2_5"
      },
      "outputs": [],
      "source": [
        "\n",
        "\n",
        "ps.stem('loving')"
      ],
      "id": "_dOXm48gq2_5"
    },
    {
      "cell_type": "code",
      "execution_count": null,
      "metadata": {
        "id": "yrRYDeg9q2_6"
      },
      "outputs": [],
      "source": [
        "df['transformed_text'] = df['text'].apply(transform_text)"
      ],
      "id": "yrRYDeg9q2_6"
    },
    {
      "cell_type": "code",
      "execution_count": null,
      "metadata": {
        "id": "EA5dtUlkq2_7"
      },
      "outputs": [],
      "source": [
        "df.head()"
      ],
      "id": "EA5dtUlkq2_7"
    },
    {
      "cell_type": "code",
      "execution_count": null,
      "metadata": {
        "id": "sfbaHtFiq2_7"
      },
      "outputs": [],
      "source": [
        "from wordcloud import WordCloud\n",
        "wc = WordCloud(width=500,height=500,min_font_size=10,background_color='white')"
      ],
      "id": "sfbaHtFiq2_7"
    },
    {
      "cell_type": "code",
      "execution_count": null,
      "metadata": {
        "id": "cNBpSLN0q2_8"
      },
      "outputs": [],
      "source": [
        "spam_wc = wc.generate(df[df['target'] == 1]['transformed_text'].str.cat(sep=\" \"))"
      ],
      "id": "cNBpSLN0q2_8"
    },
    {
      "cell_type": "code",
      "execution_count": null,
      "metadata": {
        "id": "79TdZDkKq2_9"
      },
      "outputs": [],
      "source": [
        "plt.figure(figsize=(15,6))\n",
        "plt.imshow(spam_wc)"
      ],
      "id": "79TdZDkKq2_9"
    },
    {
      "cell_type": "code",
      "execution_count": null,
      "metadata": {
        "id": "Crb4EO8Rq2_-"
      },
      "outputs": [],
      "source": [
        "ham_wc = wc.generate(df[df['target'] == 0]['transformed_text'].str.cat(sep=\" \"))"
      ],
      "id": "Crb4EO8Rq2_-"
    },
    {
      "cell_type": "code",
      "execution_count": null,
      "metadata": {
        "id": "H8eftROwq2_-"
      },
      "outputs": [],
      "source": [
        "plt.figure(figsize=(15,6))\n",
        "plt.imshow(ham_wc)"
      ],
      "id": "H8eftROwq2_-"
    },
    {
      "cell_type": "code",
      "execution_count": null,
      "metadata": {
        "id": "VlQc8j4Oq2__"
      },
      "outputs": [],
      "source": [
        "df.head()"
      ],
      "id": "VlQc8j4Oq2__"
    },
    {
      "cell_type": "code",
      "execution_count": null,
      "metadata": {
        "id": "v5BLCTEUq3AA"
      },
      "outputs": [],
      "source": [
        "spam_corpus = []\n",
        "for msg in df[df['target'] == 1]['transformed_text'].tolist():\n",
        "    for word in msg.split():\n",
        "        spam_corpus.append(word)\n",
        "        "
      ],
      "id": "v5BLCTEUq3AA"
    },
    {
      "cell_type": "code",
      "execution_count": null,
      "metadata": {
        "id": "tUdlFb9yq3AB"
      },
      "outputs": [],
      "source": [
        "len(spam_corpus)"
      ],
      "id": "tUdlFb9yq3AB"
    },
    {
      "cell_type": "code",
      "execution_count": null,
      "metadata": {
        "id": "JHn2bhWHq3AB"
      },
      "outputs": [],
      "source": [
        "ham_corpus = []\n",
        "for msg in df[df['target'] == 0]['transformed_text'].tolist():\n",
        "    for word in msg.split():\n",
        "        ham_corpus.append(word)"
      ],
      "id": "JHn2bhWHq3AB"
    },
    {
      "cell_type": "code",
      "execution_count": null,
      "metadata": {
        "id": "vTQXGbPyq3AC"
      },
      "outputs": [],
      "source": [
        "len(ham_corpus)"
      ],
      "id": "vTQXGbPyq3AC"
    },
    {
      "cell_type": "code",
      "execution_count": null,
      "metadata": {
        "id": "BgJ2jzhKq3AD"
      },
      "outputs": [],
      "source": [
        "# Text Vectorization\n",
        "# using Bag of Words\n",
        "df.head()"
      ],
      "id": "BgJ2jzhKq3AD"
    },
    {
      "cell_type": "markdown",
      "metadata": {
        "id": "ktmxSyf6q3AD"
      },
      "source": [
        "## 4. Model Building"
      ],
      "id": "ktmxSyf6q3AD"
    },
    {
      "cell_type": "code",
      "execution_count": null,
      "metadata": {
        "id": "Ac0tYERiq3AE"
      },
      "outputs": [],
      "source": [
        "from sklearn.feature_extraction.text import CountVectorizer,TfidfVectorizer\n",
        "cv = CountVectorizer()\n",
        "tfidf = TfidfVectorizer(max_features=3000)\n"
      ],
      "id": "Ac0tYERiq3AE"
    },
    {
      "cell_type": "code",
      "execution_count": null,
      "metadata": {
        "id": "DuM2hO9yq3AE"
      },
      "outputs": [],
      "source": [
        "X = tfidf.fit_transform(df['transformed_text']).toarray()"
      ],
      "id": "DuM2hO9yq3AE"
    },
    {
      "cell_type": "code",
      "execution_count": null,
      "metadata": {
        "id": "lpG5aTlGq3AF"
      },
      "outputs": [],
      "source": [
        "#from sklearn.preprocessing import MinMaxScaler\n",
        "#scaler = MinMaxScaler()\n",
        "#X = scaler.fit_transform(X)"
      ],
      "id": "lpG5aTlGq3AF"
    },
    {
      "cell_type": "code",
      "execution_count": null,
      "metadata": {
        "id": "0qqnDY-uq3AF"
      },
      "outputs": [],
      "source": [
        "#appending the num_character col to X\n",
        "#X = np.hstack((X,df['num_characters'].values.reshape(-1,1)))"
      ],
      "id": "0qqnDY-uq3AF"
    },
    {
      "cell_type": "code",
      "execution_count": null,
      "metadata": {
        "id": "KD4qhc5jq3AG"
      },
      "outputs": [],
      "source": [
        "X.shape"
      ],
      "id": "KD4qhc5jq3AG"
    },
    {
      "cell_type": "code",
      "execution_count": null,
      "metadata": {
        "id": "mjG1K7QMq3AG"
      },
      "outputs": [],
      "source": [
        "y = df['target'].values"
      ],
      "id": "mjG1K7QMq3AG"
    },
    {
      "cell_type": "code",
      "execution_count": null,
      "metadata": {
        "id": "UKi5Ofzyq3AH"
      },
      "outputs": [],
      "source": [
        "from sklearn.model_selection import train_test_split"
      ],
      "id": "UKi5Ofzyq3AH"
    },
    {
      "cell_type": "code",
      "execution_count": null,
      "metadata": {
        "id": "6uWr6TyNq3AH"
      },
      "outputs": [],
      "source": [
        "X_train,X_test,y_train,y_test = train_test_split(X,y,test_size=0.2,random_state=2)"
      ],
      "id": "6uWr6TyNq3AH"
    },
    {
      "cell_type": "code",
      "execution_count": null,
      "metadata": {
        "id": "9EUZB8xXq3AI"
      },
      "outputs": [],
      "source": [
        "from sklearn.naive_bayes import GaussianNB,MultinomialNB,BernoulliNB\n",
        "from sklearn.metrics import accuracy_score,confusion_matrix,precision_score"
      ],
      "id": "9EUZB8xXq3AI"
    },
    {
      "cell_type": "code",
      "execution_count": null,
      "metadata": {
        "id": "KDxBFVp-q3AI"
      },
      "outputs": [],
      "source": [
        "gnb = GaussianNB()\n",
        "mnb = MultinomialNB()\n",
        "bnb = BernoulliNB()"
      ],
      "id": "KDxBFVp-q3AI"
    },
    {
      "cell_type": "code",
      "execution_count": null,
      "metadata": {
        "id": "BA_1BTpaq3AJ"
      },
      "outputs": [],
      "source": [
        "gnb.fit(X_train,y_train)\n",
        "y_pred1 = gnb.predict(X_test)\n",
        "print(accuracy_score(y_test,y_pred1))\n",
        "print(confusion_matrix(y_test,y_pred1))\n",
        "print(precision_score(y_test,y_pred1))"
      ],
      "id": "BA_1BTpaq3AJ"
    },
    {
      "cell_type": "code",
      "execution_count": null,
      "metadata": {
        "id": "6VqygDoHq3AJ"
      },
      "outputs": [],
      "source": [
        "mnb.fit(X_train,y_train)\n",
        "y_pred2 = mnb.predict(X_test)\n",
        "print(accuracy_score(y_test,y_pred2))\n",
        "print(confusion_matrix(y_test,y_pred2))\n",
        "print(precision_score(y_test,y_pred2))"
      ],
      "id": "6VqygDoHq3AJ"
    },
    {
      "cell_type": "code",
      "execution_count": null,
      "metadata": {
        "id": "SwTl0o79q3AJ"
      },
      "outputs": [],
      "source": [
        "bnb.fit(X_train,y_train)\n",
        "y_pred3 = bnb.predict(X_test)\n",
        "print(accuracy_score(y_test,y_pred3))\n",
        "print(confusion_matrix(y_test,y_pred3))\n",
        "print(precision_score(y_test,y_pred3))"
      ],
      "id": "SwTl0o79q3AJ"
    },
    {
      "cell_type": "code",
      "execution_count": null,
      "metadata": {
        "id": "kIHlM-6Vq3AK"
      },
      "outputs": [],
      "source": [
        "# tfidf --> MNB"
      ],
      "id": "kIHlM-6Vq3AK"
    },
    {
      "cell_type": "code",
      "execution_count": null,
      "metadata": {
        "id": "SpbWo2drq3AL"
      },
      "outputs": [],
      "source": [
        "from sklearn.linear_model import LogisticRegression\n",
        "from sklearn.svm import SVC\n",
        "from sklearn.naive_bayes import MultinomialNB\n",
        "from sklearn.tree import DecisionTreeClassifier\n",
        "from sklearn.neighbors import KNeighborsClassifier\n",
        "from sklearn.ensemble import RandomForestClassifier\n",
        "from sklearn.ensemble import AdaBoostClassifier\n",
        "from sklearn.ensemble import BaggingClassifier\n",
        "from sklearn.ensemble import ExtraTreesClassifier\n",
        "from sklearn.ensemble import GradientBoostingClassifier\n",
        "from xgboost import XGBClassifier"
      ],
      "id": "SpbWo2drq3AL"
    },
    {
      "cell_type": "code",
      "execution_count": null,
      "metadata": {
        "id": "gyk3HJRkq3AM"
      },
      "outputs": [],
      "source": [
        "svc = SVC(kernel='sigmoid', gamma=1.0)\n",
        "knc = KNeighborsClassifier()\n",
        "mnb = MultinomialNB()\n",
        "dtc = DecisionTreeClassifier(max_depth=5)\n",
        "lrc = LogisticRegression(solver='liblinear', penalty='l1')\n",
        "rfc = RandomForestClassifier(n_estimators=50, random_state=2)\n",
        "abc = AdaBoostClassifier(n_estimators=50, random_state=2)\n",
        "bc = BaggingClassifier(n_estimators=50, random_state=2)\n",
        "etc = ExtraTreesClassifier(n_estimators=50, random_state=2)\n",
        "gbdt = GradientBoostingClassifier(n_estimators=50,random_state=2)\n",
        "xgb = XGBClassifier(n_estimators=50,random_state=2)"
      ],
      "id": "gyk3HJRkq3AM"
    },
    {
      "cell_type": "code",
      "execution_count": null,
      "metadata": {
        "id": "lshj4KFKq3AM"
      },
      "outputs": [],
      "source": [
        "clfs = {\n",
        "    'SVC' : svc,\n",
        "    'KN' : knc, \n",
        "    'NB': mnb, \n",
        "    'DT': dtc, \n",
        "    'LR': lrc, \n",
        "    'RF': rfc, \n",
        "    'AdaBoost': abc, \n",
        "    'BgC': bc, \n",
        "    'ETC': etc,\n",
        "    'GBDT':gbdt,\n",
        "    'xgb':xgb\n",
        "}"
      ],
      "id": "lshj4KFKq3AM"
    },
    {
      "cell_type": "code",
      "execution_count": null,
      "metadata": {
        "id": "g6nGK7HHq3AN"
      },
      "outputs": [],
      "source": [
        "def train_classifier(clf,X_train,y_train,X_test,y_test):\n",
        "    clf.fit(X_train,y_train)\n",
        "    y_pred = clf.predict(X_test)\n",
        "    accuracy = accuracy_score(y_test,y_pred)\n",
        "    precision = precision_score(y_test,y_pred)\n",
        "    \n",
        "    return accuracy,precision"
      ],
      "id": "g6nGK7HHq3AN"
    },
    {
      "cell_type": "code",
      "execution_count": null,
      "metadata": {
        "id": "MgUzFxLwq3AN"
      },
      "outputs": [],
      "source": [
        "train_classifier(svc,X_train,y_train,X_test,y_test)"
      ],
      "id": "MgUzFxLwq3AN"
    },
    {
      "cell_type": "code",
      "execution_count": null,
      "metadata": {
        "id": "8tQmSLU-q3AN"
      },
      "outputs": [],
      "source": [
        "accuracy_scores = []\n",
        "precision_scores = []\n",
        "\n",
        "for name,clf in clfs.items():\n",
        "    \n",
        "    current_accuracy,current_precision = train_classifier(clf, X_train,y_train,X_test,y_test)\n",
        "    \n",
        "    print(\"For \",name)\n",
        "    print(\"Accuracy - \",current_accuracy)\n",
        "    print(\"Precision - \",current_precision)\n",
        "    \n",
        "    accuracy_scores.append(current_accuracy)\n",
        "    precision_scores.append(current_precision)"
      ],
      "id": "8tQmSLU-q3AN"
    },
    {
      "cell_type": "code",
      "execution_count": null,
      "metadata": {
        "id": "deZDkXI6q3AO"
      },
      "outputs": [],
      "source": [
        "performance_df = pd.DataFrame({'Algorithm':list(clfs.keys()),'Accuracy':accuracy_scores,'Precision':precision_scores}).sort_values('Precision',ascending=False)"
      ],
      "id": "deZDkXI6q3AO"
    },
    {
      "cell_type": "code",
      "execution_count": null,
      "metadata": {
        "id": "dJlmsFSxq3AO"
      },
      "outputs": [],
      "source": [
        "performance_df"
      ],
      "id": "dJlmsFSxq3AO"
    },
    {
      "cell_type": "code",
      "execution_count": null,
      "metadata": {
        "id": "AF2sHnKOq3AP"
      },
      "outputs": [],
      "source": [
        "performance_df1 = pd.melt(performance_df, id_vars = \"Algorithm\")"
      ],
      "id": "AF2sHnKOq3AP"
    },
    {
      "cell_type": "code",
      "execution_count": null,
      "metadata": {
        "id": "vZ1_dvSzq3AQ"
      },
      "outputs": [],
      "source": [
        "performance_df1"
      ],
      "id": "vZ1_dvSzq3AQ"
    },
    {
      "cell_type": "code",
      "execution_count": null,
      "metadata": {
        "id": "--7Vc3RIq3AQ"
      },
      "outputs": [],
      "source": [
        "temp_df = pd.DataFrame({'Algorithm':list(clfs.keys()),'Accuracy_max_ft_3000':accuracy_scores,'Precision_max_ft_3000':precision_scores}).sort_values('Precision_max_ft_3000',ascending=False)"
      ],
      "id": "--7Vc3RIq3AQ"
    },
    {
      "cell_type": "code",
      "execution_count": null,
      "metadata": {
        "id": "AWwjw1l3q3AR"
      },
      "outputs": [],
      "source": [
        "temp_df = pd.DataFrame({'Algorithm':list(clfs.keys()),'Accuracy_scaling':accuracy_scores,'Precision_scaling':precision_scores}).sort_values('Precision_scaling',ascending=False)"
      ],
      "id": "AWwjw1l3q3AR"
    },
    {
      "cell_type": "code",
      "execution_count": null,
      "metadata": {
        "id": "1Xx_ettdq3AR"
      },
      "outputs": [],
      "source": [
        "new_df = performance_df.merge(temp_df,on='Algorithm')"
      ],
      "id": "1Xx_ettdq3AR"
    },
    {
      "cell_type": "code",
      "execution_count": null,
      "metadata": {
        "id": "WjixfYv4q3AS"
      },
      "outputs": [],
      "source": [
        "new_df_scaled = new_df.merge(temp_df,on='Algorithm')"
      ],
      "id": "WjixfYv4q3AS"
    },
    {
      "cell_type": "code",
      "execution_count": null,
      "metadata": {
        "id": "Yb6AH-xMq3AS"
      },
      "outputs": [],
      "source": [
        "temp_df = pd.DataFrame({'Algorithm':list(clfs.keys()),'Accuracy_num_chars':accuracy_scores,'Precision_num_chars':precision_scores}).sort_values('Precision_num_chars',ascending=False)"
      ],
      "id": "Yb6AH-xMq3AS"
    },
    {
      "cell_type": "code",
      "execution_count": null,
      "metadata": {
        "id": "imd0YAVlq3AT"
      },
      "outputs": [],
      "source": [
        "new_df_scaled.merge(temp_df,on='Algorithm')"
      ],
      "id": "imd0YAVlq3AT"
    },
    {
      "cell_type": "code",
      "execution_count": null,
      "metadata": {
        "id": "NY00hz_Qq3AT"
      },
      "outputs": [],
      "source": [
        "# Voting Classifier\n",
        "svc = SVC(kernel='sigmoid', gamma=1.0,probability=True)\n",
        "mnb = MultinomialNB()\n",
        "etc = ExtraTreesClassifier(n_estimators=50, random_state=2)\n",
        "\n",
        "from sklearn.ensemble import VotingClassifier"
      ],
      "id": "NY00hz_Qq3AT"
    },
    {
      "cell_type": "code",
      "execution_count": null,
      "metadata": {
        "id": "CqDnRURfq3AU"
      },
      "outputs": [],
      "source": [
        "voting = VotingClassifier(estimators=[('svm', svc), ('nb', mnb), ('et', etc)],voting='soft')"
      ],
      "id": "CqDnRURfq3AU"
    },
    {
      "cell_type": "code",
      "execution_count": null,
      "metadata": {
        "id": "bWvCPNTZq3AU"
      },
      "outputs": [],
      "source": [
        "voting.fit(X_train,y_train)"
      ],
      "id": "bWvCPNTZq3AU"
    },
    {
      "cell_type": "code",
      "execution_count": null,
      "metadata": {
        "id": "Ut3la0ipq3AV"
      },
      "outputs": [],
      "source": [
        "y_pred = voting.predict(X_test)\n",
        "print(\"Accuracy\",accuracy_score(y_test,y_pred))\n",
        "print(\"Precision\",precision_score(y_test,y_pred))"
      ],
      "id": "Ut3la0ipq3AV"
    },
    {
      "cell_type": "code",
      "execution_count": null,
      "metadata": {
        "id": "vOsR48uxq3AV"
      },
      "outputs": [],
      "source": [
        "# Applying stacking\n",
        "estimators=[('svm', svc), ('nb', mnb), ('et', etc)]\n",
        "final_estimator=RandomForestClassifier()"
      ],
      "id": "vOsR48uxq3AV"
    },
    {
      "cell_type": "code",
      "execution_count": null,
      "metadata": {
        "id": "4y5w_ZPiq3AV"
      },
      "outputs": [],
      "source": [
        "from sklearn.ensemble import StackingClassifier"
      ],
      "id": "4y5w_ZPiq3AV"
    },
    {
      "cell_type": "code",
      "execution_count": null,
      "metadata": {
        "id": "FIzRtGmkq3AW"
      },
      "outputs": [],
      "source": [
        "clf = StackingClassifier(estimators=estimators, final_estimator=final_estimator)"
      ],
      "id": "FIzRtGmkq3AW"
    },
    {
      "cell_type": "code",
      "execution_count": null,
      "metadata": {
        "id": "vGzYx_YRq3AW"
      },
      "outputs": [],
      "source": [
        "clf.fit(X_train,y_train)\n",
        "y_pred = clf.predict(X_test)\n",
        "print(\"Accuracy\",accuracy_score(y_test,y_pred))\n",
        "print(\"Precision\",precision_score(y_test,y_pred))"
      ],
      "id": "vGzYx_YRq3AW"
    },
    {
      "cell_type": "code",
      "execution_count": null,
      "metadata": {
        "id": "UiDqp28vq3AY"
      },
      "outputs": [],
      "source": [
        "import pickle\n",
        "pickle.dump(tfidf,open('vectorizer.pkl','wb'))\n",
        "pickle.dump(mnb,open('model.pkl','wb'))"
      ],
      "id": "UiDqp28vq3AY"
    },
    {
      "cell_type": "code",
      "execution_count": null,
      "metadata": {
        "id": "gjQavOh7q3AZ"
      },
      "outputs": [],
      "source": [],
      "id": "gjQavOh7q3AZ"
    }
  ],
  "metadata": {
    "colab": {
      "provenance": [],
      "include_colab_link": true
    },
    "kernelspec": {
      "display_name": "Python 3",
      "language": "python",
      "name": "python3"
    },
    "language_info": {
      "codemirror_mode": {
        "name": "ipython",
        "version": 3
      },
      "file_extension": ".py",
      "mimetype": "text/x-python",
      "name": "python",
      "nbconvert_exporter": "python",
      "pygments_lexer": "ipython3",
      "version": "3.7.6"
    }
  },
  "nbformat": 4,
  "nbformat_minor": 5
}